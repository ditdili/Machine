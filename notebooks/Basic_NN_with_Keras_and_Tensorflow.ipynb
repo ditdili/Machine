{
 "cells": [
  {
   "cell_type": "markdown",
   "metadata": {},
   "source": [
    "### Basic Example of a Neural Network with Tensorflow and Keras\n",
    "\n",
    "#### Tensorflow and Keras\n",
    "\n",
    "TensorFlow was developed at Google to use internally for machine learning tasks, and applied to the applications like speech recognition, Search, Gmail, etc. It was made public in 2015 as an open source application. The library is in C++, used with Python API. TensorFlow can be used for various problems like image recognition, language processing, implementation in self-driving cars, etc. There are various alternatives available to TensorFlow such as Theano, and Torch.\n",
    "\n",
    "We are going to use Keras in this notebook, with Tensorflow as a backend engine. Keras is a high-level wrapper, that can be used both with TensorFlow and Theano, which simplifies common operations. The code is similar to scikit-learn, making it easier to get used to it, while in the background TensorFlow or Theano is used for processing.\n",
    "\n",
    "#### The data\n",
    "\n",
    "Let's start by importing MNIST database (a subset of a larger set by National Institute of Standards and Technology). This is a classic dataset containing 60000 training images, 10000 test images, and correspoding training and test labels. The images are handwritten digits, in the shape of 28 x 28 pixels, and divided into 10 categories (from 0 to 9).\n",
    "\n",
    "#### The versions\n",
    "\n",
    "In this example I am using Keras v.2.1.4 and TensorFlow v.1.5.0 with GPU (using NVIDIA CUDA). Running examples on a GPU can speed up the training process. "
   ]
  },
  {
   "cell_type": "code",
   "execution_count": 1,
   "metadata": {},
   "outputs": [
    {
     "name": "stderr",
     "output_type": "stream",
     "text": [
      "Using TensorFlow backend.\n"
     ]
    },
    {
     "name": "stdout",
     "output_type": "stream",
     "text": [
      "Keras: 2.1.4\n",
      "TensorFlow: 1.5.0\n"
     ]
    }
   ],
   "source": [
    "# To avoid warnings\n",
    "import warnings\n",
    "warnings.filterwarnings('ignore')\n",
    "\n",
    "# Importing keras and tensorflow, and printing the versions\n",
    "import keras\n",
    "print('Keras: {}'.format(keras.__version__))\n",
    "\n",
    "import tensorflow as tf\n",
    "print('TensorFlow: {}'.format(tf.__version__))"
   ]
  },
  {
   "cell_type": "code",
   "execution_count": 2,
   "metadata": {},
   "outputs": [
    {
     "name": "stdout",
     "output_type": "stream",
     "text": [
      "Training images shape: (60000, 28, 28)\n",
      "Training labels shape: (60000,)\n",
      "Test images shape: (10000, 28, 28)\n",
      "Test labels shape: (10000,)\n"
     ]
    }
   ],
   "source": [
    "# Importing MNIST data set\n",
    "from keras.datasets import mnist\n",
    "\n",
    "# Assigning the data from the data set\n",
    "(X_train, y_train), (X_test, y_test) = mnist.load_data()\n",
    "\n",
    "print('Training images shape: {}'.format(X_train.shape))\n",
    "print('Training labels shape: {}'.format(y_train.shape))\n",
    "print('Test images shape: {}'.format(X_test.shape))\n",
    "print('Test labels shape: {}'.format(y_test.shape))"
   ]
  },
  {
   "cell_type": "markdown",
   "metadata": {},
   "source": [
    "As we can see, the data is in the shape of 28 x 28 pixels. Let's look at the first ten labels in the data set. Also we are going to visualize the first 10 digits by plotting the pixels information. "
   ]
  },
  {
   "cell_type": "code",
   "execution_count": 3,
   "metadata": {},
   "outputs": [
    {
     "data": {
      "text/plain": [
       "array([5, 0, 4, 1, 9, 2, 1, 3, 1, 4], dtype=uint8)"
      ]
     },
     "execution_count": 3,
     "metadata": {},
     "output_type": "execute_result"
    }
   ],
   "source": [
    "# First 10 labels\n",
    "y_train[:10]"
   ]
  },
  {
   "cell_type": "code",
   "execution_count": 4,
   "metadata": {},
   "outputs": [],
   "source": [
    "# Importing matplotlib library for plotting\n",
    "%matplotlib inline\n",
    "import matplotlib.pyplot as plt"
   ]
  },
  {
   "cell_type": "code",
   "execution_count": 5,
   "metadata": {},
   "outputs": [
    {
     "data": {
      "image/png": "[encoded data removed]",
      "text/plain": [
       "<matplotlib.figure.Figure at 0x1ac9dbd76d8>"
      ]
     },
     "metadata": {},
     "output_type": "display_data"
    }
   ],
   "source": [
    "# Defining the figure for plotting, using 'xticks':[] and 'yticks':[]\n",
    "# to avoid the ticks on axes\n",
    "fig, axes = plt.subplots(1, 10, figsize=(10, 1),\n",
    "                         subplot_kw={'xticks':[], 'yticks':[]},\n",
    "                         gridspec_kw=dict(hspace=0.1, wspace=0.1))\n",
    "\n",
    "# Looping through the images and their corresponding labels\n",
    "for i, ax in enumerate(axes.flat):\n",
    "    ax.imshow(X_train[i], cmap='binary')\n",
    "    ax.text(0.05, 0.05, str(y_train[i]), transform=ax.transAxes, color='orangered')"
   ]
  },
  {
   "cell_type": "markdown",
   "metadata": {},
   "source": [
    "#### Neural Network with Keras and Tensorflow\n",
    "\n",
    "Models are defined as a sequence of layers. Sequential is imported from keras.models library, and a Sequential model is created.\n",
    "\n",
    "The network below consists of a sequence of two Dense layers. These layers are fully connected. We are using 'relu' rectifier activation function on the first layer (more on the relu on [Medium](https://towardsdatascience.com/activation-functions-neural-networks-1cbd9f8d91d6)). We are using 'softmax' as an activation function in the second layer, which will return an array of 10 probability scores, to define which class does the current digit belongs to.\n",
    "\n",
    "We will flatten the 28 x 28 pixels image to an input vector of a shape 784 pixels"
   ]
  },
  {
   "cell_type": "code",
   "execution_count": 6,
   "metadata": {},
   "outputs": [],
   "source": [
    "# Importing Sequential and Dense from keras\n",
    "from keras.models import Sequential\n",
    "from keras.layers import Dense\n",
    "\n",
    "# Creating the model and adding the layers\n",
    "model = Sequential()\n",
    "model.add(Dense(784, activation='relu', input_shape=(28 * 28,)))\n",
    "model.add(Dense(10, activation='softmax'))"
   ]
  },
  {
   "cell_type": "markdown",
   "metadata": {},
   "source": [
    "Now that we have the model defined, it is time to compile it. Under the covers TensorFlow is used for compiling. We need to specify additional properties required for the neural network. \n",
    "\n",
    "* __A loss function__: measures the performance of a model, comparing y_pred to actual y. We will be using 'categorical_crossentropy' as the loss function for our model. 'categorical_crossentropy' reguires the target to be in a categorical format. In our case we have 10 categories, so the target should be in a format of 10-dimensional vector, all 0s except 1 for the actual index correspondoing to the class. [List of Loss functions](https://keras.io/losses/) at keras website.\n",
    "\n",
    "* __An optimizer__: searches through different weights for the network, and determines how the model will be updated based on the loss function. We will be implementing Adam optimizer. Adam optimizer is an extension to stochastic gradient descent. [List of Optimizers](https://keras.io/optimizers/) at keras website. More on Adam at [machinelearningmastery](https://machinelearningmastery.com/adam-optimization-algorithm-for-deep-learning/).\n",
    "\n",
    "* __Metrics__: is a function to judge the performance of the model. In this case we will collect and report the classification accuracy."
   ]
  },
  {
   "cell_type": "code",
   "execution_count": 7,
   "metadata": {},
   "outputs": [],
   "source": [
    "# Compiling the model\n",
    "model.compile(loss='categorical_crossentropy', optimizer='adam', metrics=['accuracy'])"
   ]
  },
  {
   "cell_type": "markdown",
   "metadata": {},
   "source": [
    "The data needs to preprocessed before applying the model to it. First we reshape 28 x 28 pixels into a vector of a shape 784. Then we are normalizing the scale from 0-255 to the range 0-1 by dividing the values by 255. Also we are converting the labels to categorical format. After the data is converted, we will print the first row in the training data to demonstrate converted label into categorical."
   ]
  },
  {
   "cell_type": "code",
   "execution_count": 8,
   "metadata": {},
   "outputs": [],
   "source": [
    "# Reshaping the data\n",
    "X_train = X_train.reshape((X_train.shape[0], 28 * 28))\n",
    "X_test = X_test.reshape((X_test.shape[0], 28 * 28))\n",
    "\n",
    "# Converting the data to float32 type, and normalizing\n",
    "X_train = X_train.astype('float32') / 255\n",
    "X_test = X_test.astype('float32') / 255\n",
    "\n",
    "# Importing to_categorical to convert the label\n",
    "from keras.utils import to_categorical\n",
    "y_train = to_categorical(y_train)\n",
    "y_test = to_categorical(y_test)"
   ]
  },
  {
   "cell_type": "code",
   "execution_count": 9,
   "metadata": {},
   "outputs": [
    {
     "data": {
      "text/plain": [
       "array([0., 0., 0., 0., 0., 1., 0., 0., 0., 0.])"
      ]
     },
     "execution_count": 9,
     "metadata": {},
     "output_type": "execute_result"
    }
   ],
   "source": [
    "# Displaying first row of training label, corresponding to 5\n",
    "y_train[0]"
   ]
  },
  {
   "cell_type": "markdown",
   "metadata": {},
   "source": [
    "Once all the above steps are taken, we can fit the training data and evaluate the model on the test data. This model is fit over 5 epochs (the amount of iterations over the data set), and the batch size of 150 (the total number of training samples present in a single batch)."
   ]
  },
  {
   "cell_type": "code",
   "execution_count": 10,
   "metadata": {
    "scrolled": false
   },
   "outputs": [
    {
     "name": "stdout",
     "output_type": "stream",
     "text": [
      "Epoch 1/5\n",
      "60000/60000 [==============================] - 4s 63us/step - loss: 0.2663 - acc: 0.9234\n",
      "Epoch 2/5\n",
      "60000/60000 [==============================] - 2s 38us/step - loss: 0.1019 - acc: 0.9704\n",
      "Epoch 3/5\n",
      "60000/60000 [==============================] - 2s 38us/step - loss: 0.0655 - acc: 0.9805\n",
      "Epoch 4/5\n",
      "60000/60000 [==============================] - 2s 38us/step - loss: 0.0463 - acc: 0.9863\n",
      "Epoch 5/5\n",
      "60000/60000 [==============================] - 2s 40us/step - loss: 0.0325 - acc: 0.9904\n",
      "10000/10000 [==============================] - 1s 69us/step\n",
      "\n",
      "Model acc: 0.981\n"
     ]
    }
   ],
   "source": [
    "# Fitting the model\n",
    "model.fit(X_train, y_train, epochs=5, batch_size=150)\n",
    "\n",
    "# Evaluating the model on the test set\n",
    "score = model.evaluate(X_test, y_test)\n",
    "\n",
    "# Printing the accuracy score of the model over the test set\n",
    "print('\\nModel {}: {}'.format(model.metrics_names[1], score[1]))"
   ]
  },
  {
   "cell_type": "markdown",
   "metadata": {},
   "source": [
    "The model accuracy on the test data turns out to be about 98%. There is slight discprepancy between the training acccuracy and test accuracy due to some overfitting."
   ]
  }
 ],
 "metadata": {
  "kernelspec": {
   "display_name": "Python 3",
   "language": "python",
   "name": "python3"
  },
  "language_info": {
   "codemirror_mode": {
    "name": "ipython",
    "version": 3
   },
   "file_extension": ".py",
   "mimetype": "text/x-python",
   "name": "python",
   "nbconvert_exporter": "python",
   "pygments_lexer": "ipython3",
   "version": "3.6.3"
  }
 },
 "nbformat": 4,
 "nbformat_minor": 2
}
