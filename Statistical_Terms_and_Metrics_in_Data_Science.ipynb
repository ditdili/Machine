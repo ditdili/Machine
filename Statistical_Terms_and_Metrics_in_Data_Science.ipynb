{
 "cells": [
  {
   "cell_type": "markdown",
   "metadata": {},
   "source": [
    "### Statistical Terms and Metrics in Data Science\n",
    "\n",
    "Various Statistical concepts are incorporated in Data Science. In this notebook I am going to cover some basic statistical terms, and talk about metrics used in Data Science for Regression and Classification tasks. \n",
    "\n",
    "<br></br>\n",
    "#### Statistical terms\n",
    "\n",
    "Let's look at some simple statistical terms in detail:\n",
    "\n",
    "&nbsp;&nbsp;&nbsp;&nbsp;__Mean ($\\bar{x}$):__ Averaging. Mean is a sum of all values divided by the number of values:\n",
    "\n",
    "\\begin{equation*}\n",
    "\\bar{x} = \\frac{\\sum_{i=1}^{n}x_i}{n}\n",
    "\\end{equation*}\n",
    "\n",
    "&nbsp;&nbsp;&nbsp;&nbsp;__Variance ($\\sigma^2$):__ Describes the spread of a distribution. For a set of values, the variance:\n",
    "\n",
    "\\begin{equation*}\n",
    "\\sigma^2 = \\frac{1}{n}\\sum_{i=1}^{n}\\big(x_i - \\bar{x}\\big)^2\n",
    "\\end{equation*}\n",
    "\n",
    "&nbsp;&nbsp;&nbsp;&nbsp;__Standard Deviation ($\\sigma$):__ Square root of variance, is in the units of the data it represents:\n",
    "\n",
    "\\begin{equation*}\n",
    "\\sigma = \\sqrt{\\frac{1}{n}\\sum_{i=1}^{n}\\big(x_i - \\bar{x}\\big)^2}\n",
    "\\end{equation*}\n",
    "\n",
    "\n",
    "<br></br>\n",
    "_Note_: If the data is a subset of the entire population, the denominator (n) in the variance and standard deviation calculations becomes (n-1).\n",
    "\n",
    "_Note 2_:  \n",
    "\n",
    "* Predictor (X) is also called feature, or input variable\n",
    "* Response (y) is also called target, output variable, or label\n",
    "\n",
    "<br></br>\n",
    "We are going to create an array using numpy, define methods for manual calculation of the above terms, and then implement built in numpy functions:"
   ]
  },
  {
   "cell_type": "code",
   "execution_count": 1,
   "metadata": {},
   "outputs": [],
   "source": [
    "# Importing numpy library\n",
    "import numpy as np\n",
    "\n",
    "# Creating an array\n",
    "x = np.array([3, 8, 5, 6, 2])"
   ]
  },
  {
   "cell_type": "code",
   "execution_count": 2,
   "metadata": {},
   "outputs": [
    {
     "name": "stdout",
     "output_type": "stream",
     "text": [
      "For a given array [3 8 5 6 2]:\n",
      "Mean:           4.800\n",
      "Variance:       4.560\n",
      "Std. Deviation: 2.135\n"
     ]
    }
   ],
   "source": [
    "# Defining a method calculating the mean of a given array\n",
    "def mean_calc(num):\n",
    "    # Using max(len(num), 1) to avoid division by 0 for empty arrays.\n",
    "    return float(sum(num)) / max(len(num), 1)\n",
    "\n",
    "# Defining a method calculating the variance of a given array\n",
    "def var_calc(num):\n",
    "    x_bar = mean_calc(num)\n",
    "    return sum(abs(num - x_bar)**2) / max(len(num), 1)\n",
    "\n",
    "# Defining a method calculating the standard deviation of a given array\n",
    "def std_calc(num):\n",
    "    return var_calc(num)**(0.5)\n",
    "\n",
    "# Printing calculated values\n",
    "print('For a given array {}:'.format(x))\n",
    "print('Mean: {0:15.3f}'.format(mean_calc(x)))\n",
    "print('Variance: {0:11.3f}'.format(var_calc(x)))\n",
    "print('Std. Deviation: {0:2.3f}'.format(std_calc(x)))"
   ]
  },
  {
   "cell_type": "code",
   "execution_count": 3,
   "metadata": {},
   "outputs": [
    {
     "name": "stdout",
     "output_type": "stream",
     "text": [
      "For a given array [3 8 5 6 2]:\n",
      "Mean:           4.800\n",
      "Variance:       4.560\n",
      "Std. Deviation: 2.135\n"
     ]
    }
   ],
   "source": [
    "# Or with built-in numpy methods:\n",
    "print('For a given array {}:'.format(x))\n",
    "print('Mean: {0:15.3f}'.format(float(x.mean())))\n",
    "print('Variance: {0:11.3f}'.format(x.var()))\n",
    "print('Std. Deviation: {0:2.3f}'.format(x.std()))"
   ]
  },
  {
   "cell_type": "markdown",
   "metadata": {},
   "source": [
    "### Metrics\n",
    "\n",
    "There are different ways avaliable for measuring model performance, and they are well incorporated in __sckit-learn.metrics__.Before we get to the metrics, let's look at one more statistical term:\n",
    "\n",
    "&nbsp;&nbsp;&nbsp;&nbsp;__Residuals:__\n",
    "\n",
    "\n",
    "#### Regression Metrics\n",
    "\n",
    "Let's first look at the metrics used to measure regression performance:\n",
    "\n",
    "__R-squared (coefficient of determination)__ measures how response variables predicted by the model are fitting the actual values. For a linear model the values are in the range of 0 to 1. the R-squared value of 1 indicates that the regression line perfectly fits the data, there is no error using this model.\n",
    "\n",
    "__R-squared__ is calculated by the below equation,\n",
    "\n",
    "\\begin{equation*}\n",
    "R^2 = 1 - \\frac {SS_{r}}{SS_{t}}\n",
    "\\end{equation*}\n",
    "\n",
    "where in lineare regression __($SS_t$)__ is __Total Sum of Squares__ and __($SS_r$)__ is __Residual Sum of Squares__:\n",
    "\n",
    "\n",
    "\\begin{equation*}\n",
    "SS_{t} = SS_{e} + SS_{r}\n",
    "\\end{equation*}\n",
    "\n",
    "or, \n",
    "\n",
    "\\begin{equation*}\n",
    "\\sum_{i=1}^{n}\\big( y_i - \\bar{y}\\big)^2 = \\sum_{i=1}^{n}\\big(f(x_i) - \\bar{y}\\big)^2 + \\sum_{i=1}^{n}\\big(y_i - f(x_i)\\big)^2\n",
    "\\end{equation*}\n",
    "\n",
    "so, \n",
    "\n",
    "\\begin{equation*}\n",
    "R^2 = 1 - \\frac {SS_{r}}{SS_{t}} = 1 - \\frac {\\sum_{i=1}^{n}\\big(y_i - f(x_i)\\big)^2}{\\sum_{i=1}^{n}\\big( y_i - \\bar{y}\\big)^2} = 1 - \\frac {\\sigma{^2}\\big(y - \\hat{y}\\big)}{\\sigma{^2}\\big(y\\big)}\n",
    "\\end{equation*}\n",
    "\n",
    "<br></br>\n",
    "Let's look at implementation of R-squared with scikit-learn"
   ]
  },
  {
   "cell_type": "code",
   "execution_count": 4,
   "metadata": {
    "scrolled": true
   },
   "outputs": [
    {
     "name": "stdout",
     "output_type": "stream",
     "text": [
      "(10, 1) (10,)\n"
     ]
    }
   ],
   "source": [
    "# Defining random seed for reproducibility\n",
    "rseed = np.random.seed(7)\n",
    "\n",
    "# Defining predictor (X) and response (y) variables. Reshaping X\n",
    "X = np.arange(12, 22)\n",
    "y = X * 10 + np.random.rand(len(X)) * 20\n",
    "\n",
    "# Reshaping X array to a column vector\n",
    "X = X[:, np.newaxis]\n",
    "\n",
    "# Checking the shapes of X and y\n",
    "print(X.shape, y.shape)"
   ]
  },
  {
   "cell_type": "code",
   "execution_count": 5,
   "metadata": {},
   "outputs": [
    {
     "name": "stdout",
     "output_type": "stream",
     "text": [
      "Slope:        9.672\n",
      "Intercept:   15.165\n"
     ]
    }
   ],
   "source": [
    "# Importing Linear Regression\n",
    "from sklearn.linear_model import LinearRegression\n",
    "\n",
    "# Creating linear regression object\n",
    "model = LinearRegression()\n",
    "\n",
    "# Fitting the data to the model and constructing the best fit line\n",
    "model.fit(X, y)\n",
    "\n",
    "# We can check the slope and intercept of the line\n",
    "print('Slope:   {0:10.3f}\\nIntercept:  {1:7.3f}'.format(model.coef_[0], model.intercept_))"
   ]
  },
  {
   "cell_type": "code",
   "execution_count": 6,
   "metadata": {
    "scrolled": false
   },
   "outputs": [
    {
     "data": {
      "image/png": "[encoded data removed]",
      "text/plain": [
       "<matplotlib.figure.Figure at 0x1f70d893f60>"
      ]
     },
     "metadata": {},
     "output_type": "display_data"
    }
   ],
   "source": [
    "# Importing matplotlib for plotting, and seaborn for styling\n",
    "%matplotlib inline\n",
    "import matplotlib.pyplot as plt\n",
    "import seaborn as sns; sns.set_style('whitegrid')\n",
    "\n",
    "# Let's calculate the response variable predicted by the model.\n",
    "# It can be done by: y_pred = X * model.coef_[0] + model.intercept_\n",
    "# or by using model.predict function from scikit-learn\n",
    "y_pred = model.predict(X)\n",
    "\n",
    "# We also need to plot the model line\n",
    "x_fit = np.linspace(10, 24)\n",
    "y_fit = model.predict(x_fit[:, np.newaxis])\n",
    "\n",
    "# Plotting the Actual values, Predicted values, and Model fit\n",
    "fig, ax = plt.subplots(figsize=(9, 6))\n",
    "ax.scatter(X, y, s=60, c='steelblue', alpha=0.8, edgecolors='k', label='Actual')\n",
    "ax.scatter(X, y_pred, s=60, c='orangered', alpha=0.8, edgecolors='k', label='Predicted')\n",
    "ax.plot(x_fit, y_fit, c='seagreen', label='Model')\n",
    "ax.set_xlim(x_fit.min(), x_fit.max() - 2)\n",
    "ax.set_ylim(y_fit.min(), 240)\n",
    "plt.legend();"
   ]
  },
  {
   "cell_type": "code",
   "execution_count": 7,
   "metadata": {},
   "outputs": [
    {
     "name": "stdout",
     "output_type": "stream",
     "text": [
      "R-squared(manual):        0.9624\n",
      "R-squared(variance):      0.9624\n",
      "R-squared(scikit-learn):  0.9624\n"
     ]
    }
   ],
   "source": [
    "# Manually calculating the R-squared\n",
    "r_squared = 1 - (np.sum((y - y_pred)**2) / np.sum((y - y.mean())**2))\n",
    "print('R-squared(manual):       {0:7.4f}'.format(r_squared))\n",
    "\n",
    "# R-squared with variance equation\n",
    "r_sq_var = 1 - (y - y_pred).var() / y.var()\n",
    "print('R-squared(variance):     {0:7.4f}'.format(r_sq_var))\n",
    "\n",
    "# Or using scikit-learns r2_score\n",
    "from sklearn.metrics import r2_score\n",
    "print('R-squared(scikit-learn): {0:7.4f}'.format(r2_score(y, y_pred)))"
   ]
  }
 ],
 "metadata": {
  "kernelspec": {
   "display_name": "Python 3",
   "language": "python",
   "name": "python3"
  },
  "language_info": {
   "codemirror_mode": {
    "name": "ipython",
    "version": 3
   },
   "file_extension": ".py",
   "mimetype": "text/x-python",
   "name": "python",
   "nbconvert_exporter": "python",
   "pygments_lexer": "ipython3",
   "version": "3.6.3"
  }
 },
 "nbformat": 4,
 "nbformat_minor": 2
}
